{
 "cells": [
  {
   "cell_type": "markdown",
   "id": "IqFIEt-XqGpO",
   "metadata": {
    "id": "IqFIEt-XqGpO"
   },
   "source": [
    "# Teste de Python - Summer Job NAVI 2021\n",
    "Benny Chun Yin Ng"
   ]
  },
  {
   "cell_type": "code",
   "execution_count": 1,
   "id": "5V8WC6Yeqeaf",
   "metadata": {
    "id": "5V8WC6Yeqeaf"
   },
   "outputs": [],
   "source": [
    "# Importando as bibliotecas\n",
    "import numpy as np"
   ]
  },
  {
   "cell_type": "markdown",
   "id": "BKVbov60qblD",
   "metadata": {
    "id": "BKVbov60qblD"
   },
   "source": [
    "# Exercício 1"
   ]
  },
  {
   "cell_type": "code",
   "execution_count": 2,
   "id": "HEO0VIblqXKv",
   "metadata": {
    "id": "HEO0VIblqXKv"
   },
   "outputs": [],
   "source": [
    "def ex1(min,max):\n",
    "    contador = 0\n",
    "    for i in range(min,max+1):\n",
    "        if i%2 == 0 and i%49 == 0 and i%37 == 0:\n",
    "            contador+=1\n",
    "    print(f'Existem {contador} números que atendem aos requisitos.' )\n",
    "    return(contador)"
   ]
  },
  {
   "cell_type": "code",
   "execution_count": 3,
   "id": "Ndn8n6yGs84F",
   "metadata": {
    "colab": {
     "base_uri": "https://localhost:8080/"
    },
    "id": "Ndn8n6yGs84F",
    "outputId": "0fa7323a-9aa4-42dd-fa63-44f09cd28b14"
   },
   "outputs": [
    {
     "name": "stdout",
     "output_type": "stream",
     "text": [
      "Existem 1378 números que atendem aos requisitos.\n"
     ]
    },
    {
     "data": {
      "text/plain": [
       "1378"
      ]
     },
     "execution_count": 3,
     "metadata": {},
     "output_type": "execute_result"
    }
   ],
   "source": [
    "ex1(1,5000000)"
   ]
  },
  {
   "cell_type": "markdown",
   "id": "MFhJ77XXtFq1",
   "metadata": {
    "id": "MFhJ77XXtFq1"
   },
   "source": [
    "# Exercício 2"
   ]
  },
  {
   "cell_type": "code",
   "execution_count": 4,
   "id": "y4tKEUOotIpB",
   "metadata": {
    "id": "y4tKEUOotIpB"
   },
   "outputs": [],
   "source": [
    "def ex2(posicoes):\n",
    "    vetor = np.zeros(posicoes)\n",
    "    for i in range(len(vetor)):\n",
    "        if i%2 == 0:\n",
    "            vetor[i] = 3**i+7*np.math.factorial(i)\n",
    "        else:\n",
    "            vetor[i] = 2**i+4*np.log(i)\n",
    "    print(f'A posição do maior elemento é {np.argmax(vetor)}.')\n",
    "    print(f'A média dos elementos vale {np.round(np.mean(vetor),2)}.')\n",
    "    return(vetor)"
   ]
  },
  {
   "cell_type": "code",
   "execution_count": 5,
   "id": "BESp3Rax7Uhu",
   "metadata": {
    "colab": {
     "base_uri": "https://localhost:8080/"
    },
    "id": "BESp3Rax7Uhu",
    "outputId": "28c9c9ac-f8c6-4b4d-8793-524b03b04c9b"
   },
   "outputs": [
    {
     "name": "stdout",
     "output_type": "stream",
     "text": [
      "A posição do maior elemento é 8.\n",
      "A média dos elementos vale 29555.94.\n"
     ]
    },
    {
     "data": {
      "text/plain": [
       "array([8.00000000e+00, 2.00000000e+00, 2.30000000e+01, 1.23944492e+01,\n",
       "       2.49000000e+02, 3.84377516e+01, 5.76900000e+03, 1.35783641e+02,\n",
       "       2.88801000e+05, 5.20788898e+02])"
      ]
     },
     "execution_count": 5,
     "metadata": {},
     "output_type": "execute_result"
    }
   ],
   "source": [
    "ex2(10)"
   ]
  },
  {
   "cell_type": "markdown",
   "id": "tsI-AH6lvtUA",
   "metadata": {
    "id": "tsI-AH6lvtUA"
   },
   "source": [
    "# Exercício 3"
   ]
  },
  {
   "cell_type": "code",
   "execution_count": 6,
   "id": "fSSLfXtGvyWT",
   "metadata": {
    "id": "fSSLfXtGvyWT"
   },
   "outputs": [],
   "source": [
    "def ex3(alunos):\n",
    "    dict = {}\n",
    "    for i in range(alunos):\n",
    "        nome = str(input(f'Digite o nome do(a) {i+1}.o(a) aluno(a): '))\n",
    "        nota = float(input(f'Digite a nota de {nome}: '))\n",
    "        dict[nome] = nota\n",
    "    nome_max = max(dict, key = dict.get)\n",
    "    nota_max = dict[nome_max]\n",
    "    print(f'\\nA maior nota foi de {nome_max}, que tirou {nota_max}.')"
   ]
  },
  {
   "cell_type": "code",
   "execution_count": 7,
   "id": "TXLcklR012qb",
   "metadata": {
    "colab": {
     "base_uri": "https://localhost:8080/"
    },
    "id": "TXLcklR012qb",
    "outputId": "e60c418b-1424-48e7-9532-11e6687df409"
   },
   "outputs": [
    {
     "name": "stdout",
     "output_type": "stream",
     "text": [
      "Digite o nome do(a) 1.o(a) aluno(a): Antonio\n",
      "Digite a nota de Antonio: 4.53\n",
      "Digite o nome do(a) 2.o(a) aluno(a): Maria\n",
      "Digite a nota de Maria: 6.53\n",
      "Digite o nome do(a) 3.o(a) aluno(a): Joao\n",
      "Digite a nota de Joao: 7.32\n",
      "Digite o nome do(a) 4.o(a) aluno(a): Thais\n",
      "Digite a nota de Thais: 8.88\n",
      "Digite o nome do(a) 5.o(a) aluno(a): Lucas\n",
      "Digite a nota de Lucas: 7.35\n",
      "\n",
      "A maior nota foi de Thais, que tirou 8.88.\n"
     ]
    }
   ],
   "source": [
    "ex3(5)"
   ]
  }
 ],
 "metadata": {
  "colab": {
   "collapsed_sections": [],
   "name": "BennyNg.ipynb",
   "provenance": []
  },
  "kernelspec": {
   "display_name": "Python 3",
   "language": "python",
   "name": "python3"
  },
  "language_info": {
   "codemirror_mode": {
    "name": "ipython",
    "version": 3
   },
   "file_extension": ".py",
   "mimetype": "text/x-python",
   "name": "python",
   "nbconvert_exporter": "python",
   "pygments_lexer": "ipython3",
   "version": "3.8.8"
  }
 },
 "nbformat": 4,
 "nbformat_minor": 5
}
